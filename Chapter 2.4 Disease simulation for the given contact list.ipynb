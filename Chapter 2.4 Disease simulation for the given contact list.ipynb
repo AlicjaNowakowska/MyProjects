{
 "cells": [
  {
   "cell_type": "markdown",
   "metadata": {},
   "source": [
    "# Disease Simulation by the Monte Carlo method\n",
    "In this notebook the simulation algorithm described in the chapter 2.4 is impelmented. The disease simulation is performed 1000 times for the contact list from the data set. Then the obtained list is saved. <br>\n",
    "The below code is the optimized version that aims to shorten the performance time."
   ]
  },
  {
   "cell_type": "code",
   "execution_count": 6,
   "metadata": {},
   "outputs": [],
   "source": [
    "import networkx as nx\n",
    "import matplotlib.pyplot as plt\n",
    "import random\n",
    "import statistics"
   ]
  },
  {
   "cell_type": "code",
   "execution_count": 7,
   "metadata": {},
   "outputs": [],
   "source": [
    "data=open(\"C:/Users/wojci/Documents/Studia/praca/DANE/dane.txt\",\"r\")\n",
    "data=data.readlines()\n",
    "contacts=[]\n",
    "nodes=[]\n",
    "times=[]\n",
    "#OBRÓBKA DANYCH\n",
    "for i in range(0,len(data)):\n",
    "    row=data[i]\n",
    "    row=row.split()\n",
    "    nodes.append(int(row[1]))\n",
    "    nodes.append(int(row[2]))\n",
    "    times.append(int(row[0])/60/60/24)\n",
    "nodes=set(nodes)\n",
    "nodes=list(nodes)  #tak otrzymuję wszystkie wierzchołki jakie są w sieci podczas całego badania\n",
    "\n",
    "for i in range(0,len(data)):\n",
    "    row=data[i]\n",
    "    row=row.split()\n",
    "    contacts.append((int(row[0])//60/60/24,int(row[1]),int(row[2]))) #i teraz kontakty mamy w postaci (czas, node1,node2)"
   ]
  },
  {
   "cell_type": "code",
   "execution_count": 13,
   "metadata": {},
   "outputs": [],
   "source": [
    "G1000=nx.Graph(time=0,S=92)\n",
    "inf_prob=0.006\n",
    "incubation_period=1\n",
    "infectious_period=7\n",
    "\n",
    "for i in nodes:\n",
    "    G1000.add_node(i,Id=i,state=\"S\",time_of_inf=False)"
   ]
  },
  {
   "cell_type": "code",
   "execution_count": 14,
   "metadata": {},
   "outputs": [],
   "source": [
    "def clear_net():\n",
    "    for i in G1000.nodes:\n",
    "        G1000.nodes[i]['state']=\"S\"\n",
    "        G1000.nodes[i]['time_of_inf']=False\n",
    "    G1000.graph['time']=0\n",
    "    G1000.graph['S']=92"
   ]
  },
  {
   "cell_type": "code",
   "execution_count": 15,
   "metadata": {},
   "outputs": [],
   "source": [
    "def new_exposed(node,time):\n",
    "    G1000.graph['S']-=1\n",
    "    G1000.nodes[node]['state']='E'\n",
    "    G1000.nodes[node]['time_of_inf']=time"
   ]
  },
  {
   "cell_type": "code",
   "execution_count": 16,
   "metadata": {},
   "outputs": [],
   "source": [
    "def end_of_inc(i):\n",
    "    \n",
    "    if G1000.nodes[i]['time_of_inf']+incubation_period<=G1000.graph['time']:\n",
    "        G1000.nodes[i]['state']=\"I\"\n",
    "            \n",
    "def passing_to_recover(i):\n",
    "    \n",
    "    if G1000.nodes[i]['time_of_inf']+incubation_period+infectious_period<=G1000.graph['time']:\n",
    "            G1000.nodes[i]['state']=\"R\"\n",
    "            G1000.nodes[i]['time_of_inf']=False\n",
    "            \n",
    "decision_dict={'E':end_of_inc,'I':passing_to_recover}\n",
    " \n",
    "def transformations(): #te funkcje to modyfikacje żeby szybciej szło\n",
    "    \n",
    "    for i in G1000.nodes:\n",
    "        try:\n",
    "            func=decision_dict[G1000.nodes[i]['state']]\n",
    "            func(i)\n",
    "        except KeyError:\n",
    "            pass"
   ]
  },
  {
   "cell_type": "code",
   "execution_count": 17,
   "metadata": {},
   "outputs": [],
   "source": [
    "def IS(node1,node2,time):\n",
    "    pr=random.random() \n",
    "    if pr<=inf_prob: #udało się zarazić\n",
    "        new_exposed(node2,time)\n",
    "        \n",
    "def SI(node1,node2,time):\n",
    "    pr=random.random() \n",
    "    if pr<=inf_prob: #udało się zarazić\n",
    "        new_exposed(node1,time)\n",
    "        \n",
    "decision_dict2={'IS':IS,'SI':SI}\n",
    "        \n",
    "def new_contact(node1,node2,time):\n",
    "    try:\n",
    "        func=decision_dict2[G1000.nodes[node1]['state']+G1000.nodes[node2]['state']] \n",
    "        func(node1,node2,time)\n",
    "    except KeyError:\n",
    "            pass"
   ]
  },
  {
   "cell_type": "code",
   "execution_count": 18,
   "metadata": {},
   "outputs": [],
   "source": [
    "def simple_epidemics(node): #used for MC simulation\n",
    "    clear_net()\n",
    "    new_exposed(node,0)\n",
    "    for i in contacts:\n",
    "        G1000.graph['time']=i[0]\n",
    "        transformations()\n",
    "        new_contact(i[1],i[2],i[0])\n",
    "    return G1000.graph['S']"
   ]
  },
  {
   "cell_type": "code",
   "execution_count": 27,
   "metadata": {},
   "outputs": [],
   "source": [
    "def monte_carlo():\n",
    "    N=1000\n",
    "    S=[92-simple_epidemics(random.choice(nodes)) for j in range(N)]\n",
    "    #chance_for_node=[i for i in S if i>=3]\n",
    "    #chance=len(chance_for_node)/N\n",
    "    #mean=statistics.mean(S)\n",
    "    #return [node,chance,mean]\n",
    "    return S\n",
    "\n",
    "#a=[monte_carlo(i) for i in G1000.nodes]"
   ]
  },
  {
   "cell_type": "code",
   "execution_count": 36,
   "metadata": {},
   "outputs": [
    {
     "name": "stdout",
     "output_type": "stream",
     "text": [
      "Stored 'S_normal2' (list)\n"
     ]
    }
   ],
   "source": [
    "S_normal2=monte_carlo()\n",
    "%store S_normal2"
   ]
  },
  {
   "cell_type": "code",
   "execution_count": 2,
   "metadata": {},
   "outputs": [],
   "source": [
    "import matplotlib.pyplot as plt"
   ]
  },
  {
   "cell_type": "code",
   "execution_count": 3,
   "metadata": {},
   "outputs": [
    {
     "data": {
      "image/png": "[encoded data removed]",
      "text/plain": [
       "<Figure size 432x288 with 1 Axes>"
      ]
     },
     "metadata": {},
     "output_type": "display_data"
    }
   ],
   "source": [
    "%store -r S_normal2\n",
    "plt.hist(S_normal2)\n",
    "plt.ylabel('Frequency')\n",
    "plt.xlabel('Number of secondary cases')\n",
    "plt.title('Histogram of the number of secondary cases- random selection')\n",
    "a=plt.gcf()\n",
    "a.savefig(\"C:/Users/wojci/Documents/Studia/praca/ZDEJCIA/random_selection/random_selection.eps\")\n",
    "plt.show()"
   ]
  },
  {
   "cell_type": "code",
   "execution_count": 45,
   "metadata": {},
   "outputs": [
    {
     "data": {
      "text/plain": [
       "(array([646., 145.,  89.,  49.,   0.,  31.,  17.,  14.,   6.,   3.]),\n",
       " array([1. , 1.8, 2.6, 3.4, 4.2, 5. , 5.8, 6.6, 7.4, 8.2, 9. ]),\n",
       " <a list of 10 Patch objects>)"
      ]
     },
     "execution_count": 45,
     "metadata": {},
     "output_type": "execute_result"
    },
    {
     "data": {
      "image/png": "[encoded data removed]",
      "text/plain": [
       "<Figure size 432x288 with 1 Axes>"
      ]
     },
     "metadata": {},
     "output_type": "display_data"
    }
   ],
   "source": [
    "plt.hist(S_normal2)"
   ]
  }
 ],
 "metadata": {
  "kernelspec": {
   "display_name": "Python 3",
   "language": "python",
   "name": "python3"
  },
  "language_info": {
   "codemirror_mode": {
    "name": "ipython",
    "version": 3
   },
   "file_extension": ".py",
   "mimetype": "text/x-python",
   "name": "python",
   "nbconvert_exporter": "python",
   "pygments_lexer": "ipython3",
   "version": "3.6.5"
  }
 },
 "nbformat": 4,
 "nbformat_minor": 2
}
