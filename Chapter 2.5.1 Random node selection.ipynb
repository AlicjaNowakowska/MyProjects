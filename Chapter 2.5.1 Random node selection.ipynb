{
 "cells": [
  {
   "cell_type": "markdown",
   "metadata": {},
   "source": [
    "# Analysis of the results of the simulation with the random node selection\n",
    "Here, the graph presented in the chapter 2.5.1, that aims to show the simualtion results, is created. "
   ]
  },
  {
   "cell_type": "markdown",
   "metadata": {},
   "source": [
    "W tym pliku tworzę graf reprezentujący moją społeczność używając networkx, bo okazało się, że te moje klasy są gorsze.\n",
    "Tworzę funkcje służące do symulowania epidemii i symuluję epidemie 1000 zarażająć jeden LOSOWY wierzchołek na początku, żeby zobaczyć jaka jest w ogóle szansa na rozprzestrzenie się epidemii. <br>\n",
    "\n",
    "Symulacja bazuje na następujących założeniach <br>\n",
    "1) Model SEIR- susceptible, exposed(infected but not infectious), infectious, recovered, <br>\n",
    "2) istnieje czas inkubacji, wynosi 1 dzień, co rpawda kolejny jeszcze sie nie ma symptomów, ale już się zaraża, daltego przechodzi w ciągu jednego dnia z grupy exposed to infectious <br>\n",
    "3) W grupie infectious jest w sumie 7 dni <br>\n",
    "3) Prawdopodbieństwo zarażenia wynosi 0.006 <br>\n",
    "4) Zakładam, że wszsystkie osoby w grupie są zdrowe i dorosłe, tylko wtedy ten czas inkubacji i bycia chorym jest poprawny<br>\n",
    "Zasadniczo warto, by wprowadzić jakieś tam losowania tego czasu inkubacji i zarażania, ale tego nie robiłam....<br>\n",
    "\n",
    "https://www.cdc.gov/flu/about/keyfacts.htm <br>\n",
    "\n",
    "Zrobię symulację i policzę, jaka jest w ogóle szansa, że >=3 osoby wyjdą poza grupę S"
   ]
  },
  {
   "cell_type": "code",
   "execution_count": 1,
   "metadata": {},
   "outputs": [],
   "source": [
    "#DANE+ BIBLIOTEKI\n",
    "%store -r G \n",
    "import networkx as nx\n",
    "import matplotlib.pyplot as plt\n",
    "import random\n",
    "import statistics\n",
    "import pandas as pd\n",
    "import seaborn as sns\n",
    "from sklearn.model_selection import train_test_split \n",
    "from sklearn.linear_model import LinearRegression\n",
    "from sklearn import metrics\n",
    "\n",
    "data=open(\"C:/Users/wojci/Documents/Studia/praca/dane.txt\",\"r\")\n",
    "data=data.readlines()\n",
    "contacts=[]\n",
    "nodes=[]\n",
    "times=[]\n",
    "#OBRÓBKA DANYCH\n",
    "for i in range(0,len(data)):\n",
    "    row=data[i]\n",
    "    row=row.split()\n",
    "    nodes.append(int(row[1]))\n",
    "    nodes.append(int(row[2]))\n",
    "    times.append(int(row[0])/60/60/24)\n",
    "nodes=set(nodes)\n",
    "nodes=list(nodes)  #tak otrzymuję wszystkie wierzchołki jakie są w sieci podczas całego badania\n",
    "\n",
    "for i in range(0,len(data)):\n",
    "    row=data[i]\n",
    "    row=row.split()\n",
    "    contacts.append((int(row[0])//60/60/24,int(row[1]),int(row[2]))) #i teraz kontakty mamy w postaci (czas, node1,node2)"
   ]
  },
  {
   "cell_type": "code",
   "execution_count": 2,
   "metadata": {},
   "outputs": [],
   "source": [
    "inf_prob=0.006\n",
    "incubation_period=1\n",
    "infectious_period=7\n",
    "\n",
    "def clear_net():\n",
    "    for i in list(G.nodes):\n",
    "        G.nodes[i]['state']=\"S\"\n",
    "        G.nodes[i]['time_of_inf']=False\n",
    "    G.graph['time']=0\n",
    "    G.graph['E']=0\n",
    "    G.graph['S']=92\n",
    "    G.graph['I']=0\n",
    "    G.graph['R']=0\n",
    "    \n",
    "def new_exposed(node,time):\n",
    "    G.graph['E']+=1\n",
    "    G.graph['S']-=1\n",
    "    G.nodes[node]['state']='E'\n",
    "    G.nodes[node]['time_of_inf']=time\n",
    "    \n",
    "def transformations():\n",
    "    for i in list(G.nodes):\n",
    "        #end of incubation\n",
    "        if G.nodes[i]['state']==\"E\":\n",
    "            if G.nodes[i]['time_of_inf']+incubation_period<=G.graph['time']:\n",
    "                G.nodes[i]['state']=\"I\"\n",
    "                G.graph['E']-=1\n",
    "                G.graph['I']+=1\n",
    "            \n",
    "        #end of infectiousness ->passing to recovered\n",
    "        if G.nodes[i]['state']=='I':\n",
    "            if G.nodes[i]['time_of_inf']+incubation_period+infectious_period<=G.graph['time']:\n",
    "                G.nodes[i]['state']=\"R\"\n",
    "                G.nodes[i]['time_of_inf']=False\n",
    "                G.graph['I']-=1\n",
    "                G.graph['R']+=1\n",
    "\n",
    "def new_contact(node1,node2,time):\n",
    "    \n",
    "    if G.nodes[node1]['state']=='I'and G.nodes[node2]['state']=='S':\n",
    "        pr=random.random() \n",
    "        if pr<=inf_prob: #udało się zarazić\n",
    "            G.nodes[node2]['state']='E'\n",
    "            G.nodes[node2]['time_of_inf']=time\n",
    "            G.graph['E']+=1\n",
    "            G.graph['S']-=1\n",
    "                \n",
    "    if G.nodes[node2]['state']=='I'and G.nodes[node1]['state']=='S':\n",
    "        pr=random.random() \n",
    "        if pr<=inf_prob: #udało się zarazić\n",
    "            G.nodes[node1]['state']='E'\n",
    "            G.nodes[node1]['time_of_inf']=time\n",
    "            G.graph['E']+=1\n",
    "            G.graph['S']-=1\n",
    "            \n",
    "def epidemics(node):\n",
    "    S=[]\n",
    "    E=[]\n",
    "    I=[]\n",
    "    R=[]\n",
    "    clear_net()\n",
    "    new_exposed(node,0)\n",
    "    times=[G.graph['time']]\n",
    "    \n",
    "    for i in contacts:\n",
    "        \n",
    "        if times[-1]!=i[0]:\n",
    "            G.graph['time']=i[0]\n",
    "            transformations()\n",
    "            times.append(G.graph['time'])\n",
    "            var=True\n",
    "            \n",
    "        new_contact(i[1],i[2],i[0])\n",
    "        \n",
    "        if var==True:\n",
    "            S.append(G.graph['S'])\n",
    "            E.append(G.graph['E'])\n",
    "            R.append(G.graph['R'])\n",
    "            I.append(G.graph['I'])\n",
    "        \n",
    "            \n",
    "    return [S,E,I,R]\n",
    "\n",
    "def simple_epidemics(node): #used for MC simulation\n",
    "    clear_net()\n",
    "    new_exposed(node,0)\n",
    "    for i in contacts:\n",
    "        G.graph['time']=i[0]\n",
    "        transformations()\n",
    "        new_contact(i[1],i[2],i[0])\n",
    "    return G.graph['S']"
   ]
  },
  {
   "cell_type": "markdown",
   "metadata": {},
   "source": [
    "Symulacja Monte Carlo -1000 razy losuję dowolny wierzchołek i patrzę ile osób mu się uda wyprowadzić z grupy S"
   ]
  },
  {
   "cell_type": "code",
   "execution_count": 3,
   "metadata": {},
   "outputs": [
    {
     "name": "stdout",
     "output_type": "stream",
     "text": [
      "Stored 'S_normal' (list)\n"
     ]
    }
   ],
   "source": [
    "nodes_list=list(G.nodes)\n",
    "N=1000\n",
    "S_normal=[92-simple_epidemics(random.choice(nodes_list)) for j in range(0,N)] \n",
    "%store S_normal"
   ]
  },
  {
   "cell_type": "code",
   "execution_count": 10,
   "metadata": {},
   "outputs": [
    {
     "data": {
      "text/plain": [
       "(array([789.,  83.,  58.,  28.,  22.,  11.,   4.,   4.,   0.,   1.]),\n",
       " array([ 1. ,  2.1,  3.2,  4.3,  5.4,  6.5,  7.6,  8.7,  9.8, 10.9, 12. ]),\n",
       " <a list of 10 Patch objects>)"
      ]
     },
     "execution_count": 10,
     "metadata": {},
     "output_type": "execute_result"
    },
    {
     "data": {
      "image/png": "[encoded data removed]",
      "text/plain": [
       "<Figure size 432x288 with 1 Axes>"
      ]
     },
     "metadata": {},
     "output_type": "display_data"
    }
   ],
   "source": [
    "%store -r\n",
    "plt.hist(S_normal)\n",
    "#plt.title('Number of people out of S at the end of simulation')"
   ]
  },
  {
   "cell_type": "markdown",
   "metadata": {},
   "source": [
    "'Number of people out of S at the end of simulation'"
   ]
  },
  {
   "cell_type": "markdown",
   "metadata": {},
   "source": [
    "Jak widać w ogromnej liczbie przypadków (ok. 80 % nikogo nie udaje sie zarazić i i jedyną chorą osobą jest osoba, która została zainfekowana na początku symulacji-> epidemia się nie rozprzestrzenia)\n",
    "W 83 przypadkach (ok 10%) udało sie epidemię komuś przekazać, szansa, że przekazana zostanie >= 2 osobom też wynosi ok. 10 %"
   ]
  },
  {
   "cell_type": "code",
   "execution_count": 1,
   "metadata": {},
   "outputs": [
    {
     "data": {
      "text/plain": [
       "'%store -r S_normal\\nimport matplotlib.pyplot as plt\\nimport matplotlib.ticker as plticker\\nloc = plticker.MultipleLocator(base=1.0) # this locator puts ticks at regular intervals\\nax.xaxis.set_major_locator(loc)\\nfig, ax = plt.subplots(1,1)\\nplt.hist(S_normal)\\nplt.ylabel(\\'Frequency\\')\\nplt.xlabel(\\'Number of secondary cases\\')\\nplt.title(\\'Histogram of the number of secondary cases- random selection\\')\\nloc = plticker.MultipleLocator(base=1.0) # this locator puts ticks at regular intervals\\nax.xaxis.set_major_locator(loc)\\na=plt.gcf()\\na.savefig(\"C:/Users/wojci/Documents/Studia/praca/ZDEJCIA/random_selection/random_selection.eps\")\\nplt.show()'"
      ]
     },
     "execution_count": 1,
     "metadata": {},
     "output_type": "execute_result"
    }
   ],
   "source": [
    "\"\"\"%store -r S_normal\n",
    "import matplotlib.pyplot as plt\n",
    "import matplotlib.ticker as plticker\n",
    "loc = plticker.MultipleLocator(base=1.0) # this locator puts ticks at regular intervals\n",
    "ax.xaxis.set_major_locator(loc)\n",
    "fig, ax = plt.subplots(1,1)\n",
    "plt.hist(S_normal)\n",
    "plt.ylabel('Frequency')\n",
    "plt.xlabel('Number of secondary cases')\n",
    "plt.title('Histogram of the number of secondary cases- random selection')\n",
    "loc = plticker.MultipleLocator(base=1.0) # this locator puts ticks at regular intervals\n",
    "ax.xaxis.set_major_locator(loc)\n",
    "a=plt.gcf()\n",
    "a.savefig(\"C:/Users/wojci/Documents/Studia/praca/ZDEJCIA/random_selection/random_selection.eps\")\n",
    "plt.show()\"\"\""
   ]
  },
  {
   "cell_type": "code",
   "execution_count": 19,
   "metadata": {},
   "outputs": [
    {
     "data": {
      "image/png": "[encoded data removed]",
      "text/plain": [
       "<Figure size 432x288 with 1 Axes>"
      ]
     },
     "metadata": {},
     "output_type": "display_data"
    }
   ],
   "source": [
    "%store -r S_normal\n",
    "import matplotlib.pyplot as plt\n",
    "import numpy as np\n",
    "plt.hist(S_normal,bins=50)\n",
    "plt.ylabel('Frequency')\n",
    "plt.xlabel('Number of secondary cases')\n",
    "plt.title('Histogram of the number of secondary cases- random selection')\n",
    "plt.xticks(np.arange(min(S_normal), max(S_normal)+1, 1.0))\n",
    "a=plt.gcf()\n",
    "a.savefig(\"C:/Users/wojci/Documents/Studia/praca/ZDEJCIA/random_selection/random_selection.eps\")\n",
    "plt.show()"
   ]
  },
  {
   "cell_type": "code",
   "execution_count": 36,
   "metadata": {},
   "outputs": [],
   "source": [
    "hist,bin_edges=np.histogram(S_normal)"
   ]
  },
  {
   "cell_type": "code",
   "execution_count": 37,
   "metadata": {},
   "outputs": [],
   "source": [
    "bin_edges = np.round(bin_edges,0)"
   ]
  },
  {
   "cell_type": "code",
   "execution_count": 45,
   "metadata": {},
   "outputs": [
    {
     "data": {
      "image/png": "[encoded data removed]",
      "text/plain": [
       "<Figure size 720x576 with 1 Axes>"
      ]
     },
     "metadata": {},
     "output_type": "display_data"
    }
   ],
   "source": [
    "plt.figure(figsize=[10,8])\n",
    "plt.bar(bin_edges[:-1], hist,color='#1f77b4', width = 0.5)#,alpha=0.7)\n",
    "plt.xlim(min(bin_edges), max(bin_edges))\n",
    "#plt.grid(axis='y', alpha=0.75)\n",
    "f=15\n",
    "plt.ylabel('Frequency',fontsize=f)\n",
    "plt.xlabel('Value',fontsize=f)\n",
    "plt.title('Histogram of M- random selection',fontsize=f)\n",
    "plt.xticks(fontsize=f)\n",
    "plt.yticks(fontsize=f)\n",
    "a=plt.gcf()\n",
    "a.savefig(\"C:/Users/wojci/Documents/Studia/praca/ZDEJCIA/random_selection/random_selection.eps\")\n",
    "plt.show()"
   ]
  },
  {
   "cell_type": "code",
   "execution_count": 46,
   "metadata": {},
   "outputs": [
    {
     "data": {
      "text/plain": [
       "(array([629., 143.,  92.,  52.,  47.,  16.,   9.,   5.,   4.,   3.]),\n",
       " array([ 1. ,  1.9,  2.8,  3.7,  4.6,  5.5,  6.4,  7.3,  8.2,  9.1, 10. ]),\n",
       " <a list of 10 Patch objects>)"
      ]
     },
     "execution_count": 46,
     "metadata": {},
     "output_type": "execute_result"
    },
    {
     "data": {
      "image/png": "[encoded data removed]",
      "text/plain": [
       "<Figure size 432x288 with 1 Axes>"
      ]
     },
     "metadata": {},
     "output_type": "display_data"
    }
   ],
   "source": [
    "plt.hist(S_normal)"
   ]
  }
 ],
 "metadata": {
  "kernelspec": {
   "display_name": "Python 3",
   "language": "python",
   "name": "python3"
  },
  "language_info": {
   "codemirror_mode": {
    "name": "ipython",
    "version": 3
   },
   "file_extension": ".py",
   "mimetype": "text/x-python",
   "name": "python",
   "nbconvert_exporter": "python",
   "pygments_lexer": "ipython3",
   "version": "3.6.5"
  }
 },
 "nbformat": 4,
 "nbformat_minor": 2
}
