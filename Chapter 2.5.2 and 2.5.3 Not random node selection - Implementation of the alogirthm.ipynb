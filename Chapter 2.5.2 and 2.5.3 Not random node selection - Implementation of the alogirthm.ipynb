{
 "cells": [
  {
   "cell_type": "markdown",
   "metadata": {},
   "source": [
    "# Disease spread simulation with not random node selection\n",
    "In this notebook the algorithm for the simulation is modified to be performed with not random node selection. Then the results are saved in the form of the lists."
   ]
  },
  {
   "cell_type": "code",
   "execution_count": 1,
   "metadata": {},
   "outputs": [],
   "source": [
    "import networkx as nx\n",
    "import matplotlib.pyplot as plt\n",
    "import random\n",
    "import statistics"
   ]
  },
  {
   "cell_type": "code",
   "execution_count": 2,
   "metadata": {},
   "outputs": [],
   "source": [
    "data=open(\"C:/Users/wojci/Documents/Studia/praca/DANE/dane.txt\",\"r\")\n",
    "data=data.readlines()\n",
    "contacts=[]\n",
    "nodes=[]\n",
    "times=[]\n",
    "#OBRÓBKA DANYCH\n",
    "for i in range(0,len(data)):\n",
    "    row=data[i]\n",
    "    row=row.split()\n",
    "    nodes.append(int(row[1]))\n",
    "    nodes.append(int(row[2]))\n",
    "    times.append(int(row[0])/60/60/24)\n",
    "nodes=set(nodes)\n",
    "nodes=list(nodes)  #tak otrzymuję wszystkie wierzchołki jakie są w sieci podczas całego badania\n",
    "\n",
    "for i in range(0,len(data)):\n",
    "    row=data[i]\n",
    "    row=row.split()\n",
    "    contacts.append((int(row[0])//60/60/24,int(row[1]),int(row[2]))) #i teraz kontakty mamy w postaci (czas, node1,node2)"
   ]
  },
  {
   "cell_type": "code",
   "execution_count": 3,
   "metadata": {},
   "outputs": [],
   "source": [
    "G1000=nx.Graph(time=0,S=92)\n",
    "inf_prob=0.006\n",
    "incubation_period=1\n",
    "infectious_period=7\n",
    "\n",
    "for i in nodes:\n",
    "    G1000.add_node(i,Id=i,state=\"S\",time_of_inf=False)"
   ]
  },
  {
   "cell_type": "code",
   "execution_count": 4,
   "metadata": {},
   "outputs": [],
   "source": [
    "def clear_net():\n",
    "    for i in G1000.nodes:\n",
    "        G1000.nodes[i]['state']=\"S\"\n",
    "        G1000.nodes[i]['time_of_inf']=False\n",
    "    G1000.graph['time']=0\n",
    "    G1000.graph['S']=92"
   ]
  },
  {
   "cell_type": "code",
   "execution_count": 5,
   "metadata": {},
   "outputs": [],
   "source": [
    "def new_exposed(node,time):\n",
    "    G1000.graph['S']-=1\n",
    "    G1000.nodes[node]['state']='E'\n",
    "    G1000.nodes[node]['time_of_inf']=time"
   ]
  },
  {
   "cell_type": "code",
   "execution_count": 6,
   "metadata": {},
   "outputs": [],
   "source": [
    "def end_of_inc(i):\n",
    "    \n",
    "    if G1000.nodes[i]['time_of_inf']+incubation_period<=G1000.graph['time']:\n",
    "        G1000.nodes[i]['state']=\"I\"\n",
    "            \n",
    "def passing_to_recover(i):\n",
    "    \n",
    "    if G1000.nodes[i]['time_of_inf']+incubation_period+infectious_period<=G1000.graph['time']:\n",
    "            G1000.nodes[i]['state']=\"R\"\n",
    "            G1000.nodes[i]['time_of_inf']=False\n",
    "            \n",
    "decision_dict={'E':end_of_inc,'I':passing_to_recover}\n",
    " \n",
    "def transformations(): #te funkcje to modyfikacje żeby szybciej szło\n",
    "    \n",
    "    for i in G1000.nodes:\n",
    "        try:\n",
    "            func=decision_dict[G1000.nodes[i]['state']]\n",
    "            func(i)\n",
    "        except KeyError:\n",
    "            pass"
   ]
  },
  {
   "cell_type": "code",
   "execution_count": 7,
   "metadata": {},
   "outputs": [],
   "source": [
    "def IS(node1,node2,time):\n",
    "    pr=random.random() \n",
    "    if pr<=inf_prob: #udało się zarazić\n",
    "        new_exposed(node2,time)\n",
    "        \n",
    "def SI(node1,node2,time):\n",
    "    pr=random.random() \n",
    "    if pr<=inf_prob: #udało się zarazić\n",
    "        new_exposed(node1,time)\n",
    "        \n",
    "decision_dict2={'IS':IS,'SI':SI}\n",
    "        \n",
    "def new_contact(node1,node2,time):\n",
    "    try:\n",
    "        func=decision_dict2[G1000.nodes[node1]['state']+G1000.nodes[node2]['state']] \n",
    "        func(node1,node2,time)\n",
    "    except KeyError:\n",
    "            pass"
   ]
  },
  {
   "cell_type": "code",
   "execution_count": 8,
   "metadata": {},
   "outputs": [],
   "source": [
    "def simple_epidemics(node): #used for MC simulation\n",
    "    clear_net()\n",
    "    new_exposed(node,0)\n",
    "    for i in contacts:\n",
    "        G1000.graph['time']=i[0]\n",
    "        transformations()\n",
    "        new_contact(i[1],i[2],i[0])\n",
    "    return G1000.graph['S']"
   ]
  },
  {
   "cell_type": "code",
   "execution_count": 51,
   "metadata": {},
   "outputs": [],
   "source": [
    "#Don't run it unless necessary! (long run time)\n",
    "def monte_carlo(node):\n",
    "    N=1000\n",
    "    S=[92-simple_epidemics(node) for j in range(N)]\n",
    "    chance_for_node=[i for i in S if i>=3]\n",
    "    chance=len(chance_for_node)/N\n",
    "    mean=statistics.mean(S)\n",
    "    return [node,chance,mean]\n",
    "    #return S\n",
    "\n",
    "a=[monte_carlo(i) for i in G1000.nodes]\n"
   ]
  },
  {
   "cell_type": "code",
   "execution_count": null,
   "metadata": {},
   "outputs": [],
   "source": [
    "%store a"
   ]
  },
  {
   "cell_type": "code",
   "execution_count": null,
   "metadata": {},
   "outputs": [],
   "source": [
    "def monte_carlo_random(node):\n",
    "    N=1000\n",
    "    S=[92-simple_epidemics(random.random()) for j in range(N)]"
   ]
  },
  {
   "cell_type": "code",
   "execution_count": 52,
   "metadata": {},
   "outputs": [],
   "source": [
    "S_153=monte_carlo(153) \n"
   ]
  },
  {
   "cell_type": "code",
   "execution_count": 53,
   "metadata": {},
   "outputs": [
    {
     "name": "stdout",
     "output_type": "stream",
     "text": [
      "Stored 'S_153' (list)\n"
     ]
    }
   ],
   "source": [
    "%store S_153"
   ]
  }
 ],
 "metadata": {
  "kernelspec": {
   "display_name": "Python 3",
   "language": "python",
   "name": "python3"
  },
  "language_info": {
   "codemirror_mode": {
    "name": "ipython",
    "version": 3
   },
   "file_extension": ".py",
   "mimetype": "text/x-python",
   "name": "python",
   "nbconvert_exporter": "python",
   "pygments_lexer": "ipython3",
   "version": "3.6.5"
  }
 },
 "nbformat": 4,
 "nbformat_minor": 2
}
